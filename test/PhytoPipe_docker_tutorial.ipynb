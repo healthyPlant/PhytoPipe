{
 "cells": [
  {
   "cell_type": "markdown",
   "metadata": {},
   "source": [
    "# PhytoPipe Docker Tutorial"
   ]
  },
  {
   "cell_type": "markdown",
   "metadata": {},
   "source": [
    "In this tutorial, you will learn how to use PhytoPipe docker image to analyze your data. The example data (Dataset8) is from [VIROMOCK challenge](https://gitlab.com/ilvo/VIROMOCKchallenge) datasets from the European Plant Health Bioinformatics Network (PHBN). You can download them from /PhytoPipe/test/data/ or [VIROMOCK challenge](https://gitlab.com/ilvo/VIROMOCKchallenge)."
   ]
  },
  {
   "cell_type": "markdown",
   "metadata": {},
   "source": [
    "## Pull PhytoPipe docker image"
   ]
  },
  {
   "cell_type": "markdown",
   "metadata": {},
   "source": [
    "You can pull the phytopipe docker image from the docker hub by"
   ]
  },
  {
   "cell_type": "code",
   "execution_count": null,
   "metadata": {},
   "outputs": [],
   "source": [
    "!docker pull healthyplant/phytopipe\n",
    "#show docker images\n",
    "!docker images"
   ]
  },
  {
   "cell_type": "markdown",
   "metadata": {},
   "source": [
    "## Install/update databases"
   ]
  },
  {
   "cell_type": "markdown",
   "metadata": {},
   "source": [
    "You can use the script /phytopipe/scripts/updateDatabaseDocker.sh to install or update all databases. "
   ]
  },
  {
   "cell_type": "code",
   "execution_count": null,
   "metadata": {},
   "outputs": [],
   "source": [
    "%cd ~  #suppose you will install the databses in your home directory. If you want to install them into another directory, \n",
    "#please change ~ to /path/to\n",
    "!docker run -d --name phytopipe --rm -v ~/phytopipe_db:/data healthyplant/phytopipe bash \\\n",
    "    /opt/phytopipe/scripts/updateDatabaseDocker.sh /opt/phytopipe /data v25.0\n",
    "#show running messages\n",
    "!docker logs phytopipe"
   ]
  },
  {
   "cell_type": "markdown",
   "metadata": {},
   "source": [
    "v25.0 in the command is the RVDB version from [RVDB database, protein version](https://rvdb-prot.pasteur.fr/). Please use the newest version. The kraken2 database building may take several days. After it finished, you should see all databases:"
   ]
  },
  {
   "cell_type": "code",
   "execution_count": null,
   "metadata": {},
   "outputs": [],
   "source": [
    "%ls ~/phytopipe_db\n",
    "!tree ~/phytopipe_db"
   ]
  },
  {
   "cell_type": "markdown",
   "metadata": {},
   "source": [
    "You will see the following databases.\n",
    "1. kraken2 database \\\n",
    "   Folder: ~/phytopipe_db/kraken_db \\\n",
    "   Files: hash.k2d opts.k2d seqid2taxid.map taxo.k2d\n",
    "2. kaiju database \\\n",
    "   Folder: ~/phytopipe_db/kaiju_db \\\n",
    "   Files: kaiju_db_nr_euk.fmi, names.dmp, nodes.dmp\n",
    "3. NCBI blastn nt database downloaded from NCBI \\\n",
    "   Folder: ~/phytopipe_db/ncbi_nt \\\n",
    "   Files: nt*\n",
    "4. SILVA 18S and 28S Eukaryote ribosomal RNA database \\\n",
    "   Folder: ~/phytopipe_db/rRNA \\\n",
    "   Files: silva-euk_combined_rRNA.fasta\n",
    "5. Reference blastn and diamond blastx database \\\n",
    "   Folder: ~/phytopipe_db/ncbi \\\n",
    "   Files: nr.dmnd, refseq_viral_genomic.fa, plantvirus.fa, rvdb.dmnd\n",
    "6. NCBI taxonomy database \\\n",
    "   Folder: ~/phytopipe_db/ncbi/taxonomy \\\n",
    "   Files: refseq_viral.gb_taxon.txt, rvdb.gb_taxon.txt,plantvirus.gb_taxon.txt, nodes.dmp names.dmp\n",
    "7. Krona taxonomy database \\\n",
    "   Folder: ~/phytopipe_db/Krona_db \\\n",
    "   Files: all.accession2taxid.sorted, taxonomy.tab"
   ]
  },
  {
   "cell_type": "markdown",
   "metadata": {},
   "source": [
    "## Create your config.yaml"
   ]
  },
  {
   "cell_type": "markdown",
   "metadata": {},
   "source": [
    "You can download \"config.docker.yaml\" from [PhytoPipe](https://github.com/healthyPlant/PhytoPipe/blob/main/config.docker.yaml) to edit or copy the following code to edit"
   ]
  },
  {
   "cell_type": "code",
   "execution_count": null,
   "metadata": {},
   "outputs": [],
   "source": [
    "!nano ~/config.docker.yaml "
   ]
  },
  {
   "cell_type": "markdown",
   "metadata": {},
   "source": [
    "```\n",
    "#Dataset8 is a paired-end read data. It has two files: Dataset_8_R1.fastq.gz and Dataset_8_R2.fastq.gz\n",
    "\n",
    "#Single read seq_type should be commented \n",
    "#For single-read file \n",
    "#seq_type: 'se'  #'se' for single-readd, 'pe' for paired-end  \n",
    "#strand1: ''  #'' for single-read file name without R1, 'R1' for single-read file name end with R1 or R1_001\n",
    "#strand2: 'R2'  # keep it even no pair R2 file\n",
    "\n",
    "#For paired-end file \n",
    "#Dataset8 sequence files are paired-end\n",
    "seq_type: 'pe'  #'se' for single-read, 'pe' for paired-end  \n",
    "\n",
    "#the file names have extensions R1/R2.fataq.gz \n",
    "strand1: 'R1'  # for pair-end file name with R1 and R2 or R1_001 and R2_001 \n",
    "strand2: 'R2'   #for R2 or R2_001\n",
    "\n",
    "input_format: 'fastq.gz'  #read file format. 'fq.gz' is an option \n",
    "number_of_threads: 16 #number of computer cores or threads\n",
    "\n",
    "#please do not change database paths here. They are the paths in the docker image. You can use \"-v\" to link the local databases \n",
    "#spike-in or contorl's sequence file \n",
    "control: /opt/phytopipe/db/phi-X174.fasta \n",
    "#kraken2 database folder\n",
    "krakenDb: /opt/phytopipe/db/kraken_db\n",
    "#kaiju database file \n",
    "kaijuDb: /opt/phytopipe/db/kaiju_db/kaiju_db_nr_euk.fmi\n",
    "#NCBI blastn nt database downloaded from NCBI\n",
    "blastnDb: /opt/phytopipe/db/ncbi_nt/nt\n",
    "#NCBI nr database made by Diamond\n",
    "blastxDb: /opt/phytopipe/db/ncbi/nr.dmnd\n",
    "#viral reference database \n",
    "blastnViralDb: /opt/phytopipe/db/ncbi/refseq_viral_genomic.fa \n",
    "#blastnViralDb: /opt/phytopipe/db/ncbi/plantvirus.fa \n",
    "#viral reference taxonomy onformation \n",
    "blastnViralTaxonDb: /opt/phytopipe/db/ncbi/taxonomy/refseq_viral.gb_taxon.txt \n",
    "#blastnViralTaxonDb: /opt/phytopipe/db/ncbi/taxonomy/plantvirus.gb_taxon.txt \n",
    "#RVDB viral protein database made by Diamond \n",
    "blastxViralDb: /opt/phytopipe/db/ncbi/rvdb.dmnd \n",
    "#RVDB viral protein sequences taxonomy information \n",
    "blastxViralTaxonDb: /opt/phytopipe/db/ncbi/taxonomy/rvdb.gb_taxon.txt \n",
    "#SILVA 18S and 28S Eukaryote ribosomal RNA database \n",
    "euk_rRNA: /opt/phytopipe/db/rRNA/silva-euk_combined_rRNA.fasta \n",
    "#NCBI taxonomy database \n",
    "taxDb: /opt/phytopipe/db/ncbi/taxonomy\n",
    "\n",
    "#Virus acronym from ICTV \n",
    "acronymDb: /opt/phytopipe/db/ICTV_virus_acronym.txt\n",
    "\n",
    "#microbial taxon ids \n",
    "microbialTaxon: /opt/phytopipe/db/ncbi/microbial.tids\n",
    "\n",
    "#your monitored pathogens, if you don't have them, leave the file empty \n",
    "#the file is a tab delimited \n",
    "#column titles are:TaxonId Species \n",
    "#each line have a specices taxonomy ID and name \n",
    "monitorPathogen: /opt/phytopipe/db/monitorPathogen.txt\n",
    "\n",
    "#Blast database type \n",
    "#'virus' is for blasting against RVDB and viral references. \n",
    "#'all' is for blasting NCBI nt and nr. It could take a long time to finish blastn nt \n",
    "blastDbType: virus # or 'all' \n",
    "#Blast E-value cutoff \n",
    "blastEvalue: 1e-10\n",
    "\n",
    "#reads used for assembly or mapping to a reference \n",
    "#'trimmed' is for all trimmed reads including host reads \n",
    "#'clean' is for all possible pathogen reads. host reads are supposed to be removed \n",
    "mapReadType: 'clean' #'trimmed'\n",
    "\n",
    "#trimmomatic, its adapters and parameters \n",
    "trimmomatic: /opt/Trimmomatic-0.39/trimmomatic-0.39.jar \n",
    "adapters: /opt/Trimmomatic-0.39/adapters/TruSeq3-SE.fa \n",
    "trimmomatic_param: \" LEADING:3 TRAILING:3 SLIDINGWINDOW:4:20 MINLEN:36 \"\n",
    "\n",
    "#de novo genome assembly tool \n",
    "#'Trinity' or 'Spades' \n",
    "#Spades is used for test. If you're interested in viral strains, Trinity is better \n",
    "assembler: 'Spades' # Trinity \n",
    "#Spades parameters. Different kmers (k) may generate different results. \n",
    "spades_param: \" --only-assembler --phred-offset 33 -k 21,51,71,91 \"\n",
    "\n",
    "\n",
    "#mapping tool \n",
    "#'bwa' or 'bowtie' \n",
    "mappingTool: bwa # 'bowtie2' \n",
    "#mapping tool parameters \n",
    "bwa_param: \" -B 4 \"  #default bwa setting #\" -k 12 -A 1 -B 3 -O 1 -E 1 \" #bwa loose mapping; \n",
    "bowtie2_param: \" --very-sensitive-local -k 100 --score-min L,20,1.0 \" #bowtie2 sensitive mapping; \" --mp 20  --score-min L,-0.1,-0.1 \" #bowtie2 very stringent mapping \n",
    "\n",
    "#clumpify parameters \n",
    "clumpify_param: \"dedupe=t subs=0 passes=2 \" #dupedist=40 optical=t # These parameters identify reads as duplicated only if they are an exact match (i.e., no substitution allowed). \n",
    "\n",
    "#gobal variables, please do not change \n",
    "#they can be changed in the command line \n",
    "fastqDir: \"\" \n",
    "flowCellDir: \"\" \n",
    "workDir: \"\" \n",
    "samples: \"\" \n",
    "\n",
    "run_info:\n",
    "  raw: raw                                #raw fastq file directoy \n",
    "  log: logs                               #log files diretory \n",
    "  qc: qc                                  #fastqc and multiqc directory \n",
    "  trim: trimmed                           #trimmed directory \n",
    "  clean: cleaned                          #clean reads after host, control ex. Phx174, duplicates removal \n",
    "  assemble: assembly                      #assemble directory \n",
    "  classify: classification                #read classification directory \n",
    "  annotate: annotation                    #blast annotation directory  \n",
    "  map: mapping                            #mapping reads directory   \n",
    "  report: report                          #report directory    \n",
    "  novel: novelVirus                       #novelVirus directory \n",
    "\n",
    " ```"
   ]
  },
  {
   "cell_type": "markdown",
   "metadata": {},
   "source": [
    "## Run PhytoPipe"
   ]
  },
  {
   "cell_type": "code",
   "execution_count": null,
   "metadata": {},
   "outputs": [],
   "source": [
    "%%bash\n",
    "\n",
    "#suppose your work directory is Dataset8 under your home folder and fastq.gz files are in ~/Dataset8/raw.\n",
    "workDir=~/Dataset8   \n",
    "config=~/config.docker.yaml\n",
    "\n",
    "#for Dataset10\n",
    "#workDir=~/Dataset10    #fastq.gz files are in ~/Dataset10/raw\n",
    "#config=~/Dataset10/config.docker.yaml\n",
    "\n",
    "#fastq file must be in $workDir/raw folder\n",
    "ls -al $workDir/raw\n",
    "#Dataset_8_R1.fastq.gz Dataset_8_R2.fastq.gz\n",
    "\n",
    "#get your local databases\n",
    "#kraken2 database folder\n",
    "myPhytoDb=~/phytopipe_db\n",
    "krakenDb_dir=$myPhytoDb/kraken_db #hash.k2d  opts.k2d  seqid2taxid.map  taxo.k2d \n",
    "#kaiju database file\n",
    "kaijuDb_dir=$myPhytoDb/kaiju_db  #/kaiju_db_nr_euk.fmi\n",
    "#NCBI blastn nt database downloaded from NCBI\n",
    "ncbi_nt_dir=$myPhytoDb/ncbi_nt  #/nt\n",
    "#SILVA 18S and 28S Eukaryote ribosomal RNA database\n",
    "euk_rRNA_dir=$myPhytoDb/rRNA #/silva-euk_combined_rRNA.fasta\n",
    "#NCBI db\n",
    "ncbiDb_dir=$myPhytoDb/ncbi #nr.dmnd refseq_viral_genomic.fa  rvdb.dmnd\n",
    "#NCBI taxonomy database\n",
    "taxDb_dir=$myPhytoDb/ncbi/taxonomy  #refseq_viral.gb_taxon.txt rvdb.gb_taxon.txt nodes.dmp names.dmp\n",
    "#Krona taxonomy\n",
    "kronaTaxDb_dir=$myPhytoDb/krona_db  #all.accession2taxid.sorted taxonomy.tab\n",
    "\n",
    "\n",
    "#dry run PhytoPipe on docker\n",
    "#-v $workDir:/data builds a bridge between the local folder $workDir and the docker container folder /data. So any works in the container can be accessed by the local machine.\n",
    "docker run -it --rm --name phytopipe \\\n",
    "           -v $workDir:/data \\\n",
    "           -v $krakenDb_dir:/opt/phytopipe/db/kraken_db \\\n",
    "           -v $kaijuDb_dir:/opt/phytopipe/db/kaiju_db \\\n",
    "           -v $ncbi_nt_dir:/opt/phytopipe/db/ncbi_nt \\\n",
    "           -v $euk_rRNA_dir:/opt/phytopipe/db/rRNA \\\n",
    "           -v $ncbiDb_dir:/opt/phytopipe/db/ncbi \\\n",
    "           -v $taxDb_dir:/opt/phytopipe/db/ncbi/taxonomy \\\n",
    "           -v $kronaTaxDb_dir:/opt/KronaTools-2.8.1/taxonomy \\\n",
    "           -v $config:/opt/phytopipe/config.yaml \\\n",
    "           healthyplant/phytopipe \\\n",
    "           snakemake --configfile /opt/phytopipe/config.yaml \\\n",
    "           -s /opt/phytopipe/Snakefile \\\n",
    "           --config workDir=/data \\\n",
    "           --cores 32  -n\n",
    "\n",
    "#If no errors on dry run, you can run PhytoPipe in the background\n",
    "#use \"-d\" for runing in the background\n",
    "docker run -d --rm --name phytopipe \\\n",
    "           -v $workDir:/data \\\n",
    "           -v $krakenDb_dir:/opt/phytopipe/db/kraken_db \\\n",
    "           -v $kaijuDb_dir:/opt/phytopipe/db/kaiju_db \\\n",
    "           -v $ncbi_nt_dir:/opt/phytopipe/db/ncbi_nt \\\n",
    "           -v $euk_rRNA_dir:/opt/phytopipe/db/rRNA \\\n",
    "           -v $ncbiDb_dir:/opt/phytopipe/db/ncbi \\\n",
    "           -v $taxDb_dir:/opt/phytopipe/db/ncbi/taxonomy \\\n",
    "           -v $kronaTaxDb_dir:/opt/KronaTools-2.8.1/taxonomy \\\n",
    "           -v $config:/opt/phytopipe/config.yaml \\\n",
    "           healthyplant/phytopipe \\\n",
    "           snakemake --configfile /opt/phytopipe/config.yaml \\\n",
    "           -s /opt/phytopipe/Snakefile \\\n",
    "           --config workDir=/data \\\n",
    "           --cores 32 \n",
    "\n",
    "#check docker status\n",
    "docker ps -a\n",
    "\n",
    "#check logs\n",
    "docker logs phytopipe"
   ]
  },
  {
   "cell_type": "markdown",
   "metadata": {},
   "source": [
    "## Check report"
   ]
  },
  {
   "cell_type": "markdown",
   "metadata": {},
   "source": [
    "After around two hours running, you should see the report"
   ]
  },
  {
   "cell_type": "code",
   "execution_count": null,
   "metadata": {},
   "outputs": [],
   "source": [
    "%ls -al ~/Dataset8/report"
   ]
  },
  {
   "cell_type": "markdown",
   "metadata": {},
   "source": [
    "Please check [PhytoPipe wiki](https://github.com/healthyPlant/PhytoPipe/wiki#output) for the detailed information about the output."
   ]
  },
  {
   "cell_type": "markdown",
   "metadata": {},
   "source": [
    "## Run multiple datasets"
   ]
  },
  {
   "cell_type": "markdown",
   "metadata": {},
   "source": [
    "You can put all same type datasets (ex. paired-end read files *_R1.fastq.gz, *_R2.fastq.gz or single-read files) into a folder to run PhytoPipe. For example, run all single-read datasets: Dataset_10.fastq.gz, Dataset_5.fastq.gz, Dataset_6.fastq.gz in [VIROMOCK challenge](https://gitlab.com/ilvo/VIROMOCKchallenge)."
   ]
  },
  {
   "cell_type": "code",
   "execution_count": null,
   "metadata": {},
   "outputs": [],
   "source": [
    "#suppose your work directory is ~/testMulti, and all fastq.gz files are in the sub directory raw\n",
    "%ls -al ~/testMulti/raw\n",
    "#you should see Dataset_10.fastq.gz Dataset_5.fastq.gz Dataset_6.fastq.gz"
   ]
  },
  {
   "cell_type": "code",
   "execution_count": null,
   "metadata": {},
   "outputs": [],
   "source": [
    "#edit your config.docker.yaml\n",
    "\n",
    "!nano ~/config.docker.yaml \n"
   ]
  },
  {
   "cell_type": "markdown",
   "metadata": {},
   "source": [
    "```\n",
    "#For single-read file\n",
    "seq_type: 'se'  #'se' for single-readd, 'pe' for paired-end  \n",
    "strand1: ''  #'' for single-read file name without R1, 'R1' for single-read file name end with R1 or R1_001\n",
    "strand2: 'R2'  # keep it even no pair R2 file\n",
    "\n",
    "#paired-end read seq_type should be commented\n",
    "#seq_type: 'pe'  #'se' for single-read, 'pe' for paired-end  \n",
    "#strand1: 'R1'  # for pair-end file name with R1 and R2 or R1_001 and R2_001\n",
    "#strand2: 'R2'   #for R2 or R2_001\n",
    "```"
   ]
  },
  {
   "cell_type": "code",
   "execution_count": null,
   "metadata": {},
   "outputs": [],
   "source": [
    "%%bash\n",
    "#Run Phytopipe\n",
    "workDir=~/testMulti\n",
    "config=~/config.docker.yaml\n",
    "docker run -d --rm --name phytopipe \\\n",
    "           -v $workDir:/data \\\n",
    "           -v $krakenDb_dir:/opt/phytopipe/db/kraken_db \\\n",
    "           -v $kaijuDb_dir:/opt/phytopipe/db/kaiju_db \\\n",
    "           -v $ncbi_nt_dir:/opt/phytopipe/db/ncbi_nt \\\n",
    "           -v $euk_rRNA_dir:/opt/phytopipe/db/rRNA \\\n",
    "           -v $ncbiDb_dir:/opt/phytopipe/db/ncbi \\\n",
    "           -v $taxDb_dir:/opt/phytopipe/db/ncbi/taxonomy \\\n",
    "           -v $kronaTaxDb_dir:/opt/KronaTools-2.8.1/taxonomy \\\n",
    "           -v $config:/opt/phytopipe/config.yaml \\\n",
    "           healthyplant
    /phytopipe \\\n",
    "           snakemake --configfile /opt/phytopipe/config.yaml \\\n",
    "           -s /opt/phytopipe/Snakefile \\\n",
    "           --config workDir=/data \\\n",
    "           --cores 32 "
   ]
  }
 ],
 "metadata": {
  "kernelspec": {
   "display_name": "Python 3",
   "language": "python",
   "name": "python3"
  },
  "language_info": {
   "codemirror_mode": {
    "name": "ipython",
    "version": 3
   },
   "file_extension": ".py",
   "mimetype": "text/x-python",
   "name": "python",
   "nbconvert_exporter": "python",
   "pygments_lexer": "ipython3",
   "version": "3.7.4"
  }
 },
 "nbformat": 4,
 "nbformat_minor": 2
}
