{
 "cells": [
  {
   "cell_type": "markdown",
   "metadata": {},
   "source": [
    "# PhytoPipe quick test "
   ]
  },
  {
   "cell_type": "markdown",
   "metadata": {},
   "source": [
    "We can use [VIROMOCK challenge](https://gitlab.com/ilvo/VIROMOCKchallenge) datasets from the Plant Health Bioinformatics Network (PHBN) to test PhytoPipe. \n",
    "Let's choose the small size data [Dataset_8](https://gitlab.com/ilvo/VIROMOCKchallenge/-/blob/master/Datasets/Dataset8.md) to run a quick test. The data and results are under PhytoPipe test/data folder. You can download full challenge datasets from DRYAD (https://datadryad.org/stash/dataset/doi:10.5061/dryad.0zpc866z8).\n",
    "\n",
    "Suppose you finished software installation and database setup. Now let's start the test."
   ]
  },
  {
   "cell_type": "markdown",
   "metadata": {},
   "source": [
    "### Step 1. set up config.yaml\n",
    "Our data file names are Dataset_8_R1.fastq.gz and Dataset_8_R2.1.fastq.gz. In the configuration file\n",
    "\n",
    "    seq_type: 'pe'\n",
    "    strand1: 'R1'  \n",
    "    strand2: 'R2'\n",
    "    input_format: 'fastq.gz'\n",
    "\n",
    "We only search viruses\n",
    "\n",
    "    blastDbType: virus \n",
    "\n",
    "We use host filtered reads\n",
    "\n",
    "    mapReadType: 'clean' \n",
    "\n",
    "We choose Spades assembler and BWA mapping tool\n",
    "\n",
    "    assembler: 'Spades'\n",
    "    mappingTool: bwa\n",
    "\n",
    "Here is my config.yaml"
   ]
  },
  {
   "cell_type": "code",
   "execution_count": null,
   "metadata": {},
   "outputs": [],
   "source": [
    "!cat /my/software/PhytoPipe/config.yaml"
   ]
  },
  {
   "cell_type": "markdown",
   "metadata": {},
   "source": [
    "```\n",
    "#For paired-end file\n",
    "seq_type: 'pe'  #'se' for single-end, 'pe' for paired-end\n",
    "strand1: 'R1'  # for pair-end file name with R1 and R2\n",
    "strand2: 'R2' \n",
    "\n",
    "number_of_threads: 16\n",
    "input_format: 'fastq.gz'\n",
    "\n",
    "#software\n",
    "trimmomatic: /my/software/Trimmomatic-0.39/trimmomatic-0.39.jar\n",
    "adapters: /my/software/Trimmomatic-0.39/adapters/TruSeq3-SE.fa\n",
    "\n",
    "#databases\n",
    "control: /my/databases/ncbi/phi-X174.fasta\n",
    "krakenDb: /my/databases/kraken_db\n",
    "kaijuDb: /my/databases/kaiju_db/kaiju_db_nr_euk.fmi\n",
    "blastnDb: /my/databases/ncbi_nt/nt\n",
    "blastxDb: /my/databases/ncbi/nr.dmnd\n",
    "blastnViralDb: /my/databases/ncbi/refseq_viral_genomic.fa\n",
    "blastnViralTaxonDb: /my/databases/ncbi/taxonomy/refseq_viral.gb_taxon.txt\n",
    "blastxViralDb: /my/databases/ncbi/rvdb.dmnd \n",
    "blastxViralTaxonDb: /my/databases/ncbi/taxonomy/rvdb.gb_taxon.txt \n",
    "euk_rRNA: /my/databases/rRNA/silva-euk_combined_rRNA.fasta \n",
    "taxDb: /my/databases/ncbi/taxonomy\n",
    "acronymDb: /my/databases/ncbi/ICTV_virus_acronym2019.txt\n",
    "microbialTaxon: /my/databases/ncbi/microbial.tids\n",
    "monitorPathogen: /my/databases/ncbi/monitorPathogen.txt\n",
    "filterKeys: /my/databases/ncbi/filterKeyWords.txt\n",
    "\n",
    "blastDbType: virus  #or 'virus' # or 'all' #for all pathogens. It could take a long time to finish blastn against\n",
    "\n",
    "#reads used for mapping to a reference\n",
    "#'trimmed' is for all reads including host reads\n",
    "#'clean' is for all possible pathogen reads. host reads are cleaned\n",
    "mapReadType: 'clean' #'trimmed'\n",
    "\n",
    "#tools \n",
    "assembler: Trinity # or 'Spades'\n",
    "mappingTool: bwa # or 'bowtie2'\n",
    "\n",
    "#tool parameters\n",
    "clumpify_param: \"dedupe=t subs=0 passes=2 \" #dupedist=40 optical=t # These parameters identify reads as duplicated only if they are an exact match (i.e., no substitution allowed).\n",
    "trimmomatic_param: \" LEADING:3 TRAILING:3 SLIDINGWINDOW:4:20 MINLEN:36 \"\n",
    "spades_param: \" --only-assembler --phred-offset 33 -k 21,51,71,91 \"\n",
    "bwa_param: \" -B 4 \"  #using default bwa setting #\" -k 12 -A 1 -B 3 -O 1 -E 1 \" #bwa loose mapping; \n",
    "bowtie2_param: \" --very-sensitive-local -k 100 --score-min L,20,1.0 \" #bowtie2 sensitive mapping; \" --mp 20  --score-min L,-0.1,-0.1 \" #bowtie2 very strict mapping\n",
    "\n",
    "#gobal variables, please do not change\n",
    "fastqDir: \"\"\n",
    "flowCellDir: \"\"\n",
    "workDir: \"\"\n",
    "samples: \"\"\n",
    "sequencing_key: \"\"\n",
    "\n",
    "run_info:\n",
    "  raw: raw                                #raw fastq file directoy\n",
    "  log: logs                               #log files diretory\n",
    "  qc: qc                                  #fastqc and multiqc directory\n",
    "  trim: trimmed                           #trimmed directory\n",
    "  clean: cleaned                          #clean reads after host, control ex. Phx174, duplicates removal\n",
    "  assemble: assembly                      #assemble directory\n",
    "  classify: classification                #read classification directory\n",
    "  annotate: annotation                    #annotation directory \n",
    "  map: mapping                            #mapping reads directory   \n",
    "  report: report                          #report directory \n",
    "  novel: novelVirus                       #novelVirus directory \n",
    "  \n",
    "```"
   ]
  },
  {
   "cell_type": "markdown",
   "metadata": {},
   "source": [
    "### Step 2. run PhytoPipe "
   ]
  },
  {
   "cell_type": "markdown",
   "metadata": {},
   "source": [
    "Suppose Dataset_8 two read files are in PhytoPipe test folder: /my/software/PhytoPipe/test/data, the working folder is /my/phytopipe_test, the PhytoPipe is in /my/software/PhytoPipe, 32 CPU cores are used. Then we can run a dry-test"
   ]
  },
  {
   "cell_type": "code",
   "execution_count": null,
   "metadata": {},
   "outputs": [],
   "source": [
    "!conda activate phytopipe\n",
    "!snakemake  --configfile /my/software/PhytoPipe/config.yaml -s /my/software/PhytoPipe/Snakefile --config workDir=/my/phytopipe_test --fastqDir=/my/software/PhytoPipe/test/data --core 32 -n"
   ]
  },
  {
   "cell_type": "markdown",
   "metadata": {},
   "source": [
    "If dry-test is ok, we can run PhytoPipe"
   ]
  },
  {
   "cell_type": "code",
   "execution_count": null,
   "metadata": {},
   "outputs": [],
   "source": [
    "!nohup snakemake  --configfile /my/software/PhytoPipe/config.yaml -s /my/software/PhytoPipe/Snakefile --config workDir=/my/phytopipe_test --fastqDir=/my/software/PhytoPipe/test/data --core 32 &"
   ]
  },
  {
   "cell_type": "markdown",
   "metadata": {},
   "source": [
    "Take a break. It will take 1-2 hours to finish. "
   ]
  },
  {
   "cell_type": "markdown",
   "metadata": {},
   "source": [
    "### Step 3. check results "
   ]
  },
  {
   "cell_type": "markdown",
   "metadata": {},
   "source": [
    "The table report is in the file /my/phytopipe_test/report/report.txt.\n",
    "The comprehensive report is in the file /my/phytopipe_test/report/report.txt.\n",
    "The read quality and numbers in each QC step are in the file /my/phytopipe_test/report/qcReadNumber.txt.\n",
    "The contigs blast results are in the folder /my/phytopipe_test/report/blastnx.\n",
    "\n",
    "**Pelargonium flower break virus (PFBV) and Chenopodium quinoa mitovirus 1 (CqMV1) are detected.**"
   ]
  },
  {
   "cell_type": "markdown",
   "metadata": {},
   "source": [
    "Here is the structure of the working directory (/my/phytopipe_test)"
   ]
  },
  {
   "cell_type": "code",
   "execution_count": null,
   "metadata": {},
   "outputs": [],
   "source": [
    "!cd /my/phytopipe_test\n",
    "!tree -d"
   ]
  },
  {
   "cell_type": "markdown",
   "metadata": {},
   "source": [
    "```\n",
    ".\n",
    "├── annotation\n",
    "├── assembly\n",
    "│   └── Dataset_8\n",
    "├── classification\n",
    "├── cleaned\n",
    "├── logs\n",
    "│   ├── annotate\n",
    "│   ├── assemble\n",
    "│   ├── checkPoint\n",
    "│   ├── kaiju\n",
    "│   ├── kraken\n",
    "│   ├── mapping\n",
    "│   ├── multiqc\n",
    "│   ├── quast\n",
    "│   ├── raw_fastqc\n",
    "│   ├── removeControl\n",
    "│   ├── removeDuplicate\n",
    "│   ├── rRNA_qc\n",
    "│   ├── trimmed_fastqc\n",
    "│   └── trimmomatic\n",
    "├── mapping\n",
    "│   ├── map2Ref\n",
    "│   │   └── Dataset_8\n",
    "│   └── ref\n",
    "│       └── Dataset_8\n",
    "├── novelVirus\n",
    "│   ├── finalAssembly\n",
    "│   │   └── Dataset_8\n",
    "│   ├── map2Contig\n",
    "│   │   └── Dataset_8\n",
    "│   └── pseudoContig\n",
    "│       └── Dataset_8\n",
    "├── qc\n",
    "│   ├── multiqc\n",
    "│   │   ├── quast_multiqc_data\n",
    "│   │   ├── raw_multiqc_data\n",
    "│   │   └── trimmed_multiqc_data\n",
    "│   ├── quast\n",
    "│   │   └── Dataset_8.quast\n",
    "│   │       ├── basic_stats\n",
    "│   │       └── icarus_viewers\n",
    "│   ├── raw_fastqc\n",
    "│   └── trimmed_fastqc\n",
    "├── raw\n",
    "├── ref\n",
    "│   ├── genome\n",
    "│   │   └── 1\n",
    "│   └── index\n",
    "│       └── 1\n",
    "├── report\n",
    "│   ├── blastnx\n",
    "│   ├── html\n",
    "│   ├── image\n",
    "│   └── ncbiBlast\n",
    "└── trimmed\n",
    "```"
   ]
  },
  {
   "cell_type": "markdown",
   "metadata": {},
   "source": [
    "Here is explanation for folders:\n",
    "1. Read file folders:\n",
    "    - \"raw\" folder contains all raw fastq files\n",
    "    - \"trimmed\" folder contains fastq files after removing rRNAs, duplicates and low quality reads\n",
    "    - \"cleaned\" folder contains fastq files after removing host reads \n",
    "2. Read classfication folder:\n",
    "    - \"classfication\" folder contains kraken2 and kaiju read classification results: Dataset_8.kraken2.report.txt and Dataset_8.kaiju.table.txt\n",
    "3. Read assembly folder:\n",
    "    - \"assembly\" folder contains assembled contigs: Dataset_8/contigs.fasta\n",
    "4. Contig annotation folder:\n",
    "    - \"annotation\" folder contains contig annotions from blastx and blastn. Merged results are in Dataset_8.blast.nx.txt\n",
    "5. Mapping reads to reference folder:\n",
    "    - \"mapping\" folder contains references under mapping/ref/Dataset_8, and mapped bam file, consensus sequence under mapping/map2Ref/Dataset_8 \n",
    "6. Report folder:\n",
    "    - 'report' folder contains main reports from different tools\n",
    "7. Log folder:\n",
    "    - 'logs' folder contains log files from different tools\n",
    "8. QC folder:\n",
    "    - 'qc' folder contains fastqc, multiqc and quast report\n",
    "9. Novel virus folder:\n",
    "    - 'novelVirus' folder contains possible novel virus contigs mapping information\n",
    "10. ref folder:\n",
    "    - 'ref' folder is created by bbsplit.sh\n",
    "    "
   ]
  },
  {
   "cell_type": "markdown",
   "metadata": {},
   "source": [
    "## Configuration for other  VIROMOCK challenge datasets"
   ]
  },
  {
   "cell_type": "markdown",
   "metadata": {},
   "source": [
    "Dataset_5, 6 and 10 are single read files, comment paire-end config, and use the following lines in config.yaml"
   ]
  },
  {
   "cell_type": "code",
   "execution_count": 1,
   "metadata": {},
   "outputs": [],
   "source": [
    "seq_type: 'se'  #'se' for single-read, 'pe' for paired-end  \n",
    "strand1: ''  #'' for single-end file name without R1, 'R1' for single-end file name end with R1 or R1_001\n",
    "strand2: 'R2'  # keep it even no paired R2 file"
   ]
  },
  {
   "cell_type": "markdown",
   "metadata": {},
   "source": [
    "To match \"Observed closest NCBI accessions\" of the datasets, it's better to use plantvirus database in config.yaml"
   ]
  },
  {
   "cell_type": "markdown",
   "metadata": {},
   "source": [
    "blastnViralDb: /path/to/database/plantvirus.fa\n",
    "\n",
    "blastnViralTaxonDb: /path/to/database/taxonomy/plantvirus.gb_taxon.txt"
   ]
  },
  {
   "cell_type": "markdown",
   "metadata": {},
   "source": [
    "You cal put all paired-end read files in a folder and all single read files in another folder to run PhytoPipe for all datasets."
   ]
  }
 ],
 "metadata": {
  "kernelspec": {
   "display_name": "Python 3",
   "language": "python",
   "name": "python3"
  },
  "language_info": {
   "codemirror_mode": {
    "name": "ipython",
    "version": 3
   },
   "file_extension": ".py",
   "mimetype": "text/x-python",
   "name": "python",
   "nbconvert_exporter": "python",
   "pygments_lexer": "ipython3",
   "version": "3.7.4"
  }
 },
 "nbformat": 4,
 "nbformat_minor": 2
}
